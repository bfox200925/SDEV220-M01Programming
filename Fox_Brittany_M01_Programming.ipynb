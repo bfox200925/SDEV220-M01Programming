{
 "cells": [
  {
   "cell_type": "code",
   "execution_count": 2,
   "id": "fe327f51-499f-4d57-a799-a04cacaf094c",
   "metadata": {},
   "outputs": [
    {
     "data": {
      "text/plain": [
       "3600"
      ]
     },
     "execution_count": 2,
     "metadata": {},
     "output_type": "execute_result"
    }
   ],
   "source": [
    "60 * 60"
   ]
  },
  {
   "cell_type": "markdown",
   "id": "d2a960e5-9f07-45f9-a642-9366ccf805ac",
   "metadata": {},
   "source": [
    "3.1 : There are 3,600 seconds in a hour. "
   ]
  },
  {
   "cell_type": "code",
   "execution_count": 4,
   "id": "2c185e33-ab77-46d5-b9e4-457ab69a0eb8",
   "metadata": {
    "scrolled": true
   },
   "outputs": [
    {
     "data": {
      "text/plain": [
       "3600"
      ]
     },
     "execution_count": 4,
     "metadata": {},
     "output_type": "execute_result"
    }
   ],
   "source": [
    "seconds_per_hour = 60 * 60\n",
    "seconds_per_hour "
   ]
  },
  {
   "cell_type": "markdown",
   "id": "794fe071-ebc5-4a9a-845b-fcae56c27150",
   "metadata": {},
   "source": [
    "3.2: New variable seconds_per_hour is initialized and stores the value of 3600 which is the number of seconds in an hour"
   ]
  },
  {
   "cell_type": "code",
   "execution_count": 6,
   "id": "a9313e40-61d0-492e-a751-6af32f193f14",
   "metadata": {},
   "outputs": [
    {
     "data": {
      "text/plain": [
       "86400"
      ]
     },
     "execution_count": 6,
     "metadata": {},
     "output_type": "execute_result"
    }
   ],
   "source": [
    "seconds_per_hour = 60 * 60\n",
    "seconds_per_hour * 24"
   ]
  },
  {
   "cell_type": "markdown",
   "id": "1eb5754f-614b-455e-85be-d3b1c68a9804",
   "metadata": {},
   "source": [
    "3.3: There are 86,400 seconds in a day."
   ]
  },
  {
   "cell_type": "code",
   "execution_count": 8,
   "id": "6167a4ee-66c8-499f-92be-8092b5210403",
   "metadata": {},
   "outputs": [
    {
     "data": {
      "text/plain": [
       "86400"
      ]
     },
     "execution_count": 8,
     "metadata": {},
     "output_type": "execute_result"
    }
   ],
   "source": [
    "seconds_per_hour = 60 * 60\n",
    "seconds_per_day = seconds_per_hour * 24\n",
    "seconds_per_day "
   ]
  },
  {
   "cell_type": "markdown",
   "id": "010f5b73-f8cb-4a82-8dd1-a25c229c95f5",
   "metadata": {},
   "source": [
    "3.4: New variable seconds_per_day is initialized as being the seconds in an hour multiplied by the number of hours in a day (24). The variable seconds_per_day now has a value of 86400, which is the number of seconds in a day. "
   ]
  },
  {
   "cell_type": "code",
   "execution_count": 10,
   "id": "ba89d4c8-e733-47f6-a0b3-96a73a6276e0",
   "metadata": {},
   "outputs": [
    {
     "data": {
      "text/plain": [
       "24.0"
      ]
     },
     "execution_count": 10,
     "metadata": {},
     "output_type": "execute_result"
    }
   ],
   "source": [
    "seconds_per_hour = 60 * 60\n",
    "seconds_per_day = seconds_per_hour * 24\n",
    "\n",
    "seconds_per_day / seconds_per_hour"
   ]
  },
  {
   "cell_type": "markdown",
   "id": "d708da6e-e771-48d9-b175-3dc44d7515df",
   "metadata": {},
   "source": [
    "3.5: The variable seconds_per_day is divided by the variable seconds_per_hour using floating-point division (/). The output results in a float data type of 24.0, which is the number of hours in a day. "
   ]
  },
  {
   "cell_type": "code",
   "execution_count": 12,
   "id": "cdde202b-c534-4a50-9b3f-e43688173bd4",
   "metadata": {},
   "outputs": [
    {
     "data": {
      "text/plain": [
       "24"
      ]
     },
     "execution_count": 12,
     "metadata": {},
     "output_type": "execute_result"
    }
   ],
   "source": [
    "seconds_per_hour = 60 * 60\n",
    "seconds_per_day = seconds_per_hour * 24\n",
    "\n",
    "seconds_per_day // seconds_per_hour"
   ]
  },
  {
   "cell_type": "markdown",
   "id": "bcdb997f-faeb-4c28-8c56-315df0f7af04",
   "metadata": {},
   "source": [
    "3.6: The variable seconds_per_day is divided by the variable seconds_per_hour using integer division (//). The result is a whole number integer 24, which is the same as using the floating-point division other than the output will result in an integer value instead of a floating-point value. "
   ]
  }
 ],
 "metadata": {
  "kernelspec": {
   "display_name": "anaconda-panel-2023.05-py310",
   "language": "python",
   "name": "conda-env-anaconda-panel-2023.05-py310-py"
  },
  "language_info": {
   "codemirror_mode": {
    "name": "ipython",
    "version": 3
   },
   "file_extension": ".py",
   "mimetype": "text/x-python",
   "name": "python",
   "nbconvert_exporter": "python",
   "pygments_lexer": "ipython3",
   "version": "3.11.5"
  }
 },
 "nbformat": 4,
 "nbformat_minor": 5
}
